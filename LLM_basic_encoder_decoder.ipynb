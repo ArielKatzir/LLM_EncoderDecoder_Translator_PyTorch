{
  "nbformat": 4,
  "nbformat_minor": 0,
  "metadata": {
    "colab": {
      "provenance": [],
      "machine_shape": "hm",
      "gpuType": "T4",
      "mount_file_id": "1kDn4YZtlEYLcZ6f0-egtbKFotLUERjht",
      "authorship_tag": "ABX9TyOPZhpJbphVLyGUCbNcud2O",
      "include_colab_link": true
    },
    "kernelspec": {
      "name": "python3",
      "display_name": "Python 3"
    },
    "language_info": {
      "name": "python"
    },
    "accelerator": "GPU"
  },
  "cells": [
    {
      "cell_type": "markdown",
      "metadata": {
        "id": "view-in-github",
        "colab_type": "text"
      },
      "source": [
        "<a href=\"https://colab.research.google.com/github/ArielKatzir/LLM_EncoderDecoder_Translator_PyTorch/blob/master/LLM_basic_encoder_decoder.ipynb\" target=\"_parent\"><img src=\"https://colab.research.google.com/assets/colab-badge.svg\" alt=\"Open In Colab\"/></a>"
      ]
    },
    {
      "cell_type": "markdown",
      "source": [
        "# Small Scale Encoder Decoder LLM Translating English to Italian\n",
        "### Made from scratch - i.e. no Huggingface.Transformers. Only PyTorch"
      ],
      "metadata": {
        "id": "PsTooFVQo1H5"
      }
    },
    {
      "cell_type": "code",
      "source": [
        "from google.colab import drive\n",
        "drive.mount('/content/drive')\n",
        "\n",
        "!pip install sacrebleu"
      ],
      "metadata": {
        "id": "EDip-r0vOsSf",
        "colab": {
          "base_uri": "https://localhost:8080/"
        },
        "outputId": "a600bd73-adc1-439c-b5b4-60449fccb502"
      },
      "execution_count": 1,
      "outputs": [
        {
          "output_type": "stream",
          "name": "stdout",
          "text": [
            "Drive already mounted at /content/drive; to attempt to forcibly remount, call drive.mount(\"/content/drive\", force_remount=True).\n",
            "Collecting sacrebleu\n",
            "  Downloading sacrebleu-2.5.1-py3-none-any.whl.metadata (51 kB)\n",
            "\u001b[2K     \u001b[90m━━━━━━━━━━━━━━━━━━━━━━━━━━━━━━━━━━━━━━━━\u001b[0m \u001b[32m51.8/51.8 kB\u001b[0m \u001b[31m4.1 MB/s\u001b[0m eta \u001b[36m0:00:00\u001b[0m\n",
            "\u001b[?25hCollecting portalocker (from sacrebleu)\n",
            "  Downloading portalocker-3.2.0-py3-none-any.whl.metadata (8.7 kB)\n",
            "Requirement already satisfied: regex in /usr/local/lib/python3.11/dist-packages (from sacrebleu) (2024.11.6)\n",
            "Requirement already satisfied: tabulate>=0.8.9 in /usr/local/lib/python3.11/dist-packages (from sacrebleu) (0.9.0)\n",
            "Requirement already satisfied: numpy>=1.17 in /usr/local/lib/python3.11/dist-packages (from sacrebleu) (2.0.2)\n",
            "Collecting colorama (from sacrebleu)\n",
            "  Downloading colorama-0.4.6-py2.py3-none-any.whl.metadata (17 kB)\n",
            "Requirement already satisfied: lxml in /usr/local/lib/python3.11/dist-packages (from sacrebleu) (5.4.0)\n",
            "Downloading sacrebleu-2.5.1-py3-none-any.whl (104 kB)\n",
            "\u001b[2K   \u001b[90m━━━━━━━━━━━━━━━━━━━━━━━━━━━━━━━━━━━━━━━━\u001b[0m \u001b[32m104.1/104.1 kB\u001b[0m \u001b[31m9.0 MB/s\u001b[0m eta \u001b[36m0:00:00\u001b[0m\n",
            "\u001b[?25hDownloading colorama-0.4.6-py2.py3-none-any.whl (25 kB)\n",
            "Downloading portalocker-3.2.0-py3-none-any.whl (22 kB)\n",
            "Installing collected packages: portalocker, colorama, sacrebleu\n",
            "Successfully installed colorama-0.4.6 portalocker-3.2.0 sacrebleu-2.5.1\n"
          ]
        }
      ]
    },
    {
      "cell_type": "markdown",
      "source": [
        "\n",
        "\n",
        "First we download and load the data"
      ],
      "metadata": {
        "id": "wif39fEgZ4dD"
      }
    },
    {
      "cell_type": "code",
      "source": [
        "import math\n",
        "import random\n",
        "import sacrebleu\n",
        "import torch\n",
        "\n",
        "import numpy as np\n",
        "import pandas as pd\n",
        "import sentencepiece as spm\n",
        "import matplotlib.pyplot as plt\n",
        "import torch.nn as nn\n",
        "import torch.nn.functional as F\n",
        "\n",
        "from torch.amp import autocast, GradScaler\n",
        "from torch.utils.data import Dataset, DataLoader\n",
        "from sklearn.model_selection import train_test_split\n",
        "\n",
        "\n",
        "# data downloaded from https://tatoeba.org/en/downloads\n",
        "raw_df = pd.read_csv('/content/drive/MyDrive/Colab Notebooks/english_italian.tsv', sep='\\t', on_bad_lines='skip')\n",
        "raw_df.shape, raw_df.head(1)"
      ],
      "metadata": {
        "id": "ChEGayLkaBjH",
        "colab": {
          "base_uri": "https://localhost:8080/"
        },
        "outputId": "92d657c2-6995-4995-e759-3e3bc0476a0c"
      },
      "execution_count": 2,
      "outputs": [
        {
          "output_type": "execute_result",
          "data": {
            "text/plain": [
              "((681865, 4),\n",
              "    1276    Let's try something.  565618      Proviamo qualcosa!\n",
              " 0  1277  I have to go to sleep.  4369.0  Devo andare a dormire.)"
            ]
          },
          "metadata": {},
          "execution_count": 2
        }
      ]
    },
    {
      "cell_type": "markdown",
      "source": [
        "Tokanise - we will need to train the tokaniser first. It is in the format of a .txt file where one sentance is in english and the line after will have the translation. For this ill need to use maybe 100k samples."
      ],
      "metadata": {
        "id": "9L357rS9dADM"
      }
    },
    {
      "cell_type": "code",
      "source": [
        "t_english = np.array(raw_df[raw_df.columns[1]])\n",
        "t_italian = np.array(raw_df[raw_df.columns[3]])\n",
        "\n",
        "# make random boolean mask\n",
        "mask = np.random.rand(t_english.shape[0]) > 0.95\n",
        "\n",
        "# Apply mask to get valid indices\n",
        "masked_indices = np.where(mask)[0]\n",
        "assert len(t_english) == len(t_italian), \"Mismatched lengths!\"\n",
        "\n",
        "t_eng_sample = t_english[masked_indices][:30000] # just to have a round number\n",
        "t_ita_sample = t_italian[masked_indices][:30000]\n",
        "\n",
        "t_eng_sample.shape, t_ita_sample.shape"
      ],
      "metadata": {
        "id": "u-zDs-M4dD88",
        "colab": {
          "base_uri": "https://localhost:8080/"
        },
        "outputId": "ac18d31a-47a7-4e5d-90b5-0cced9de4d1a"
      },
      "execution_count": 3,
      "outputs": [
        {
          "output_type": "execute_result",
          "data": {
            "text/plain": [
              "((30000,), (30000,))"
            ]
          },
          "metadata": {},
          "execution_count": 3
        }
      ]
    },
    {
      "cell_type": "code",
      "source": [
        "# save txt file for tokanizer training data\n",
        "with open(\"english_italian_tokanizer.txt\", \"w\", encoding=\"utf-8\") as f:\n",
        "    for en, it in zip(t_eng_sample, t_ita_sample):\n",
        "        f.write(en.strip() + \"\\n\")\n",
        "        f.write(it.strip() + \"\\n\\n\")"
      ],
      "metadata": {
        "id": "ST0NfTVrmcqq"
      },
      "execution_count": 4,
      "outputs": []
    },
    {
      "cell_type": "code",
      "source": [
        "# train byte pair encoding (bpe) which learns tokens better by breaking\n",
        "# down words into relevant chunks. Vocab size 8000 is good for around 150000\n",
        "spm.SentencePieceTrainer.train(\n",
        "    input='english_italian_tokanizer.txt',\n",
        "    model_prefix='bpe',\n",
        "    vocab_size=8000,\n",
        "    character_coverage=1.0,   # use 0.9995 for non-Latin languages\n",
        "    model_type='bpe',          # or 'unigram', 'word', 'char'\n",
        "    pad_id=0, pad_piece='<pad>',\n",
        "    unk_id=1, unk_piece='<unk>',\n",
        "    bos_id=2, bos_piece='<s>',\n",
        "    eos_id=3, eos_piece='</s>'\n",
        ")"
      ],
      "metadata": {
        "id": "fkJDeX_ho2TV"
      },
      "execution_count": 5,
      "outputs": []
    },
    {
      "cell_type": "code",
      "source": [
        "# load tokaniser and try it out\n",
        "tokenizer = spm.SentencePieceProcessor()\n",
        "tokenizer.load(\"bpe.model\")\n",
        "# english and italian\n",
        "encoded = tokenizer.encode(\"ciao come stai? And also, how are you?\", out_type=int)\n",
        "encoded"
      ],
      "metadata": {
        "id": "uBJITMkrqP4L",
        "colab": {
          "base_uri": "https://localhost:8080/"
        },
        "outputId": "3a05a06e-8d02-4d4b-ab11-f7142bed07cf"
      },
      "execution_count": 6,
      "outputs": [
        {
          "output_type": "execute_result",
          "data": {
            "text/plain": [
              "[10, 5206, 337, 1762, 7912, 1238, 3415, 7917, 1036, 199, 40, 7912]"
            ]
          },
          "metadata": {},
          "execution_count": 6
        }
      ]
    },
    {
      "cell_type": "markdown",
      "source": [
        "Now lets take our training data sample. Make it small coz we dont have much GPU power."
      ],
      "metadata": {
        "id": "takLrOJGygRA"
      }
    },
    {
      "cell_type": "code",
      "source": [
        "MAX_LEN = 50\n",
        "sos_id = tokenizer.piece_to_id('<s>')\n",
        "eos_id = tokenizer.piece_to_id('</s>')\n",
        "pad_id = tokenizer.piece_to_id('<pad>')\n",
        "unk_id = tokenizer.unk_id()\n",
        "encoded = tokenizer.encode(\"ciao come stai? And also, how are you?\", out_type=int)\n",
        "encoded"
      ],
      "metadata": {
        "id": "5j8P2tQkyrNb",
        "colab": {
          "base_uri": "https://localhost:8080/"
        },
        "outputId": "13d0498a-f321-45de-ea44-22ed7e746922"
      },
      "execution_count": 7,
      "outputs": [
        {
          "output_type": "execute_result",
          "data": {
            "text/plain": [
              "[10, 5206, 337, 1762, 7912, 1238, 3415, 7917, 1036, 199, 40, 7912]"
            ]
          },
          "metadata": {},
          "execution_count": 7
        }
      ]
    },
    {
      "cell_type": "markdown",
      "source": [
        "We create a class where we can fetch tokenized input/target pair - includes padding."
      ],
      "metadata": {
        "id": "e2L-vjBCLm0P"
      }
    },
    {
      "cell_type": "code",
      "source": [
        "class TranslationDataset(Dataset):\n",
        "  def __init__(self, src_sentences, tgt_sentences, tokenizer, max_len):\n",
        "    self.src = src_sentences\n",
        "    self.tgt = tgt_sentences\n",
        "    self.tokenizer = tokenizer\n",
        "    self.max_len = max_len\n",
        "\n",
        "  def __len__(self):\n",
        "    return len(self.src)\n",
        "\n",
        "  # this method is required for a Dataset subclass\n",
        "  def __getitem__(self, idx):\n",
        "\n",
        "    # encode english and italian indices from the training data\n",
        "    src_ids = self.tokenizer.encode(self.src[idx], out_type=int)\n",
        "    tgt_ids = self.tokenizer.encode(self.tgt[idx], out_type=int)\n",
        "\n",
        "    # ensure max length is enforced for consistancy\n",
        "    src_ids = src_ids[:self.max_len]\n",
        "\n",
        "    # here we must to add start and end of sentance to tell the model when to\n",
        "    # start and stop generating output\n",
        "    tgt_ids = [sos_id] + tgt_ids[:self.max_len - 2] + [eos_id]\n",
        "\n",
        "    # add padding to ensure both input and output have exactly max_length context\n",
        "    src_ids += [pad_id] * (self.max_len - len(src_ids))\n",
        "    tgt_ids += [pad_id] * (self.max_len - len(tgt_ids))\n",
        "\n",
        "    return {\n",
        "        'src': torch.tensor(src_ids, dtype=torch.long),\n",
        "        'tgt': torch.tensor(tgt_ids, dtype=torch.long)\n",
        "    }\n",
        "\n"
      ],
      "metadata": {
        "id": "B1SMofQhGNMP"
      },
      "execution_count": 8,
      "outputs": []
    },
    {
      "cell_type": "markdown",
      "source": [
        "We now need to define the layers."
      ],
      "metadata": {
        "id": "qC-cuXf6LbvK"
      }
    },
    {
      "cell_type": "code",
      "source": [
        "class Embeddings(nn.Module):\n",
        "  def __init__(self, vocab_size, d_model, max_len):\n",
        "    super().__init__()\n",
        "    self.token_embed = nn.Embedding(vocab_size, d_model)\n",
        "    self.pos_embed = nn.Embedding(max_len, d_model)\n",
        "  def forward(self, x):\n",
        "    positions = torch.arange(0, x.size(1), device=x.device).unsqueeze(0)\n",
        "    return self.token_embed(x) + self.pos_embed(positions)"
      ],
      "metadata": {
        "id": "0FgIdO1ILkNV"
      },
      "execution_count": 9,
      "outputs": []
    },
    {
      "cell_type": "code",
      "source": [
        "class EncoderBlock(nn.Module):\n",
        "  def __init__(self, d_model, heads):\n",
        "    super().__init__()\n",
        "\n",
        "    # creates Q,K,V projected inputs and returns the attention matrix\n",
        "    self.attn = nn.MultiheadAttention(embed_dim=d_model, num_heads=heads, batch_first=True)\n",
        "\n",
        "    self.ln1 = nn.LayerNorm(d_model)\n",
        "    # fast forward\n",
        "    self.ffn = nn.Sequential(\n",
        "        nn.Linear(d_model, 4*d_model),\n",
        "        nn.GELU(),\n",
        "        nn.Dropout(0.1),\n",
        "        nn.Linear(4*d_model, d_model),\n",
        "        nn.Dropout(0.1)\n",
        "    )\n",
        "    self.ln2 = nn.LayerNorm(d_model)\n",
        "\n",
        "  def forward(self, x):\n",
        "    # input is of dim: (B,T,d_model)\n",
        "    B, T, _ = x.shape\n",
        "\n",
        "    # No masking is needed here because its the encoder\n",
        "\n",
        "    attn_output, _ = self.attn(x, x, x)\n",
        "    x = self.ln1(x + attn_output)\n",
        "    x = self.ln2(x + self.ffn(x))\n",
        "    return x"
      ],
      "metadata": {
        "id": "uW2shvOLOfom"
      },
      "execution_count": 10,
      "outputs": []
    },
    {
      "cell_type": "code",
      "source": [
        "class DecoderBlock(nn.Module):\n",
        "  def __init__(self, d_model, heads):\n",
        "    super().__init__()\n",
        "    # this is attention of the decoder input, it only looks at the previous tokens\n",
        "    self.self_attn = nn.MultiheadAttention(d_model, heads, batch_first=True)\n",
        "\n",
        "    # this is attention which includes information from the decoder, which gathered\n",
        "    # information from the entire sequence. Basically remembers.\n",
        "    self.cross_attn = nn.MultiheadAttention(d_model, heads, batch_first=True)\n",
        "\n",
        "    self.ln1 = nn.LayerNorm(d_model)\n",
        "    self.ln2 = nn.LayerNorm(d_model)\n",
        "    self.ln3 = nn.LayerNorm(d_model)\n",
        "\n",
        "    self.ffn = nn.Sequential(\n",
        "        nn.Linear(d_model, 4 * d_model),\n",
        "        nn.GELU(),\n",
        "        nn.Dropout(0.1),\n",
        "        nn.Linear(4 * d_model, d_model),\n",
        "        nn.Dropout(0.1)\n",
        "    )\n",
        "\n",
        "  def forward(self, x, memory, tgt_mask=None, tgt_key_padding_mask=None, memory_key_padding_mask=None):\n",
        "    # notice here that every time we normalise the layer we do it on the residual connection.\n",
        "\n",
        "    self.attn_output, _ = self.self_attn(x, x, x, attn_mask=tgt_mask, key_padding_mask=tgt_key_padding_mask)\n",
        "    x = self.ln1(x + self.attn_output)\n",
        "\n",
        "    cross_attn_output, _ = self.cross_attn(x, memory, memory, key_padding_mask=memory_key_padding_mask)\n",
        "    x = self.ln2(x + cross_attn_output)\n",
        "\n",
        "    x = self.ln3(x + self.ffn(x))\n",
        "\n",
        "    return x"
      ],
      "metadata": {
        "id": "7KY_EmrdVe3I"
      },
      "execution_count": 11,
      "outputs": []
    },
    {
      "cell_type": "markdown",
      "source": [
        "We can now wrap all these three blocks into one wrapper"
      ],
      "metadata": {
        "id": "tuy_zS3xksRM"
      }
    },
    {
      "cell_type": "code",
      "source": [
        "class EncoderDecoderModel(nn.Module):\n",
        "    def __init__(self, vocab_size, d_model, n_heads, max_len, num_blocks):\n",
        "        super().__init__()\n",
        "\n",
        "        # create embeddings for encoder and decoder\n",
        "        self.src_embed = Embeddings(vocab_size, d_model, max_len)\n",
        "        self.tgt_embed = Embeddings(vocab_size, d_model, max_len)\n",
        "\n",
        "        # lists of encoder and decoder blocks\n",
        "        self.encoder_blocks = nn.ModuleList([\n",
        "            EncoderBlock(d_model, n_heads) for _ in range(num_blocks)\n",
        "        ])\n",
        "\n",
        "        self.decoder_blocks = nn.ModuleList([\n",
        "            DecoderBlock(d_model, n_heads) for _ in range(num_blocks)\n",
        "        ])\n",
        "\n",
        "        self.output_layer = nn.Linear(d_model, vocab_size)\n",
        "\n",
        "    def forward(self, src, tgt, tgt_mask=None, tgt_key_padding_mask=None, memory_key_padding_mask=None):\n",
        "        # src: [B, S]\n",
        "        # tgt: [B, T]\n",
        "\n",
        "        # make the embeddings from the tokens\n",
        "        src_embedded = self.src_embed(src)  # [B, S, d_model]\n",
        "        tgt_embedded = self.tgt_embed(tgt)  # [B, T, d_model]\n",
        "\n",
        "        # pass through the encoder stack in series\n",
        "        memory = src_embedded\n",
        "        for block in self.encoder_blocks:\n",
        "            memory = block(memory)  # [B, S, d_model]\n",
        "\n",
        "        # pass through decoder stack\n",
        "        x = tgt_embedded\n",
        "        for block in self.decoder_blocks:\n",
        "            x = block(x, memory, tgt_mask, tgt_key_padding_mask, memory_key_padding_mask)\n",
        "\n",
        "        logits = self.output_layer(x)\n",
        "\n",
        "        # Final output projection is done inside each decoder block\n",
        "        return logits"
      ],
      "metadata": {
        "id": "HUISbj2Gk0bO"
      },
      "execution_count": 12,
      "outputs": []
    },
    {
      "cell_type": "markdown",
      "source": [
        "OK cool! Now the model architecture is finished. We have an encoder and a decoder model. We can start building the training loop. The idea is that we feed a source sentance in english to the encoder, the encoder comes up with a contextual memory matrix, which feeds into the decoder as input along with the original input, and the decoder, hopfully, comes up with a logits distribution which can help choose a translation. For example:\n",
        "- src: \"How are you?\"\n",
        "- DIn: \"<'bos'> come stai?\"\n",
        "- Dout: \"come stai? <'eos'>\""
      ],
      "metadata": {
        "id": "YIYqgb9qoMit"
      }
    },
    {
      "cell_type": "code",
      "source": [
        "# config\n",
        "vocab_size = 8000       # should be enough\n",
        "d_model = 128          # embedding size - needs to be divisible by n_heads\n",
        "n_heads = 8           # 4 attention heads\n",
        "max_len = 50           # max sequence length - i didnt see anything which should get anywhere near this but safety\n",
        "num_blocks = 4        # transformer blocks\n",
        "batch_size = 32\n",
        "epochs = 20\n",
        "\n",
        "# but do we even have a GPU???\n",
        "device = torch.device(\"cuda\" if torch.cuda.is_available() else \"cpu\")\n",
        "print(\"Using device:\", device)"
      ],
      "metadata": {
        "id": "QXBDxYw4MrGR",
        "colab": {
          "base_uri": "https://localhost:8080/"
        },
        "outputId": "2b196011-ae0b-4fde-ae18-979050d2173d"
      },
      "execution_count": 13,
      "outputs": [
        {
          "output_type": "stream",
          "name": "stdout",
          "text": [
            "Using device: cuda\n"
          ]
        }
      ]
    },
    {
      "cell_type": "code",
      "source": [
        "# init the model\n",
        "model = EncoderDecoderModel(\n",
        "    vocab_size=vocab_size,\n",
        "    d_model=d_model,\n",
        "    n_heads=n_heads,\n",
        "    max_len=max_len,\n",
        "    num_blocks=num_blocks\n",
        ").to(device)"
      ],
      "metadata": {
        "id": "SAmzW0j8phNS"
      },
      "execution_count": 14,
      "outputs": []
    },
    {
      "cell_type": "code",
      "source": [
        "num_params = sum(p.numel() for p in model.parameters() if p.requires_grad)\n",
        "print(f\"Trainable parameters: {num_params:,}\")"
      ],
      "metadata": {
        "id": "Moyi-sctsVCh",
        "colab": {
          "base_uri": "https://localhost:8080/"
        },
        "outputId": "488e813f-401b-48d7-c86b-88403aa46e33"
      },
      "execution_count": 15,
      "outputs": [
        {
          "output_type": "stream",
          "name": "stdout",
          "text": [
            "Trainable parameters: 4,944,192\n"
          ]
        }
      ]
    },
    {
      "cell_type": "markdown",
      "source": [
        "Fetch random data - ensure small scale - colab gpu weakkk"
      ],
      "metadata": {
        "id": "-jYWtnXstvOR"
      }
    },
    {
      "cell_type": "code",
      "source": [
        "# ensure each sentance is a string (some arent somehow)\n",
        "all_english = np.array([str(s) for s in t_english.tolist()])\n",
        "all_italian = np.array([str(s) for s in t_italian.tolist()])\n",
        "\n",
        "# randomly make a ~5% bool mask and then cap to 30k for training\n",
        "mask = np.random.rand(len(all_english)) > 0.5\n",
        "candidate_idxs = np.where(mask)[0]\n",
        "train_idxs     = candidate_idxs[:30000]\n",
        "\n",
        "train_en = all_english[train_idxs]\n",
        "train_it = all_italian[train_idxs]\n",
        "\n",
        "# everything else → hold‐out pool\n",
        "remaining_idxs = np.setdiff1d(np.arange(len(all_english)), train_idxs)\n",
        "\n",
        "# split remaining into val and test - 50/50\n",
        "val_idxs, test_idxs = train_test_split(\n",
        "    remaining_idxs,\n",
        "    test_size=0.5,\n",
        "    random_state=42,\n",
        "    shuffle=True\n",
        ")\n",
        "\n",
        "max_test_val = 5000\n",
        "\n",
        "val_en  = all_english[val_idxs][:max_test_val]\n",
        "val_it  = all_italian[val_idxs][:max_test_val]\n",
        "test_en = all_english[test_idxs][:max_test_val]\n",
        "test_it = all_italian[test_idxs][:max_test_val]\n",
        "\n",
        "train_en.shape, train_it.shape, val_en.shape, val_en.shape, test_en.shape, test_en.shape"
      ],
      "metadata": {
        "id": "8eqY10kjypUJ",
        "colab": {
          "base_uri": "https://localhost:8080/"
        },
        "outputId": "af0e920f-345f-4ff6-c77f-e45633b168f4"
      },
      "execution_count": 16,
      "outputs": [
        {
          "output_type": "execute_result",
          "data": {
            "text/plain": [
              "((30000,), (30000,), (5000,), (5000,), (5000,), (5000,))"
            ]
          },
          "metadata": {},
          "execution_count": 16
        }
      ]
    },
    {
      "cell_type": "code",
      "source": [
        "# init the data loader\n",
        "train_dataset = TranslationDataset(\n",
        "    src_sentences=train_en,\n",
        "    tgt_sentences=train_it,\n",
        "    tokenizer=tokenizer,\n",
        "    max_len=max_len\n",
        ")"
      ],
      "metadata": {
        "id": "6m5gDVN7tIFD"
      },
      "execution_count": 17,
      "outputs": []
    },
    {
      "cell_type": "code",
      "source": [
        "# create a data loader\n",
        "train_loader = DataLoader(\n",
        "    train_dataset,\n",
        "    batch_size=batch_size,\n",
        "    shuffle=True,\n",
        "    drop_last=True   #  drops last incomplete batch\n",
        ")"
      ],
      "metadata": {
        "id": "Gw8LQR-wuJl-"
      },
      "execution_count": 18,
      "outputs": []
    },
    {
      "cell_type": "code",
      "source": [
        "# just a function to make a triangle mask for the decoder\n",
        "def generate_causal_mask(size: int, device: torch.device = None):\n",
        "    # returns a matrix mask with -inf above the diagonal, 0.0 on and below\n",
        "    mask = torch.triu(torch.full((size, size), float('-inf')), diagonal=1)\n",
        "    if device is not None:\n",
        "        mask = mask.to(device)\n",
        "    return mask"
      ],
      "metadata": {
        "id": "jvdl-6vfvttK"
      },
      "execution_count": 19,
      "outputs": []
    },
    {
      "cell_type": "code",
      "source": [
        "loss_fn = nn.CrossEntropyLoss(ignore_index=pad_id)  # ignores <pad> tokens\n",
        "optimizer = torch.optim.Adam(model.parameters(), lr=1e-4)\n",
        "\n",
        "training_losses = []\n",
        "for epoch in range(epochs):\n",
        "\n",
        "    model.train() # enter training mode\n",
        "    total_loss = 0\n",
        "\n",
        "    for batch in train_loader:\n",
        "        src = batch['src'].to(device)  # [B, S]\n",
        "        tgt = batch['tgt'].to(device)  # [B, T]\n",
        "\n",
        "        tgt_input = tgt[:, :-1]  # remove last token for decoder input\n",
        "        tgt_output = tgt[:, 1:]  # remove first token for decoder output\n",
        "\n",
        "        # generate masks for decoder and pads\n",
        "        tgt_mask = generate_causal_mask(tgt_input.size(1), device)\n",
        "        tgt_key_padding_mask = (tgt_input == pad_id)\n",
        "        memory_key_padding_mask = (src == pad_id)\n",
        "\n",
        "        # pass in the network\n",
        "        logits = model(src, tgt_input,\n",
        "                       tgt_mask=tgt_mask,\n",
        "                       tgt_key_padding_mask=tgt_key_padding_mask,\n",
        "                       memory_key_padding_mask=memory_key_padding_mask)\n",
        "\n",
        "        # reshape for loss because CrossEntropyLoss expects a plattend B*T rather than (B,T,vocab)\n",
        "        logits = logits.reshape(-1, vocab_size)        # [(B*T), vocab]\n",
        "        tgt_output = tgt_output.reshape(-1)            # [(B*T)]\n",
        "\n",
        "        loss = loss_fn(logits, tgt_output)\n",
        "        optimizer.zero_grad()\n",
        "        loss.backward()\n",
        "        optimizer.step()\n",
        "\n",
        "        total_loss += loss.item()\n",
        "\n",
        "    avg_loss = total_loss / len(train_loader)\n",
        "    print(f\"Epoch {epoch+1}: loss = {avg_loss:.4f}\")\n",
        "    training_losses.append(avg_loss)\n"
      ],
      "metadata": {
        "id": "rkrXMjvFssX8",
        "colab": {
          "base_uri": "https://localhost:8080/"
        },
        "outputId": "9dac9e66-c9a4-462d-d94f-3b07e58a8b87"
      },
      "execution_count": 20,
      "outputs": [
        {
          "output_type": "stream",
          "name": "stderr",
          "text": [
            "/usr/local/lib/python3.11/dist-packages/torch/nn/functional.py:5962: UserWarning: Support for mismatched key_padding_mask and attn_mask is deprecated. Use same type for both instead.\n",
            "  warnings.warn(\n"
          ]
        },
        {
          "output_type": "stream",
          "name": "stdout",
          "text": [
            "Epoch 1: loss = 6.0486\n",
            "Epoch 2: loss = 5.0227\n",
            "Epoch 3: loss = 4.4874\n",
            "Epoch 4: loss = 4.0570\n",
            "Epoch 5: loss = 3.6889\n",
            "Epoch 6: loss = 3.3672\n",
            "Epoch 7: loss = 3.0799\n",
            "Epoch 8: loss = 2.8268\n",
            "Epoch 9: loss = 2.5964\n",
            "Epoch 10: loss = 2.3882\n",
            "Epoch 11: loss = 2.1980\n",
            "Epoch 12: loss = 2.0283\n",
            "Epoch 13: loss = 1.8704\n",
            "Epoch 14: loss = 1.7310\n",
            "Epoch 15: loss = 1.6017\n",
            "Epoch 16: loss = 1.4850\n",
            "Epoch 17: loss = 1.3743\n",
            "Epoch 18: loss = 1.2762\n",
            "Epoch 19: loss = 1.1854\n",
            "Epoch 20: loss = 1.0988\n"
          ]
        }
      ]
    },
    {
      "cell_type": "code",
      "source": [
        "# plot loss over time\n",
        "plt.figure(figsize=(8, 5))\n",
        "plt.plot(range(1, len(training_losses)+1), training_losses, marker='o')\n",
        "plt.xlabel('Epoch')\n",
        "plt.ylabel('Loss')\n",
        "plt.title('Training Loss over Epochs')\n",
        "plt.grid(True)\n",
        "plt.tight_layout()\n",
        "plt.show()"
      ],
      "metadata": {
        "id": "DWnVfVc0YJy-",
        "colab": {
          "base_uri": "https://localhost:8080/",
          "height": 507
        },
        "outputId": "881d369d-dc6f-4710-bbd9-4450003eac78"
      },
      "execution_count": 21,
      "outputs": [
        {
          "output_type": "display_data",
          "data": {
            "text/plain": [
              "<Figure size 800x500 with 1 Axes>"
            ],
            "image/png": "[encoded data removed]"
          },
          "metadata": {}
        }
      ]
    },
    {
      "cell_type": "markdown",
      "source": [
        "Now the loss goes down, and can go down more. But alone it might not mean much.\n",
        "Ideally, we should have added validation code in the main loop. But for educational purposes i want to look at the results of this model and how it performs, and later we do it again with validation to see the effect it has.  \n",
        "\n",
        "# Inference (Greedy Decoding) - aka Autoregressively decoding\n",
        "So now we only have the source english.\n",
        "You need to generate the target tokens one by one:\n",
        "Run the encoder on src → get memory.\n",
        "\n",
        "Initialize your decoder input with just <\"sos\"> char.\n",
        "\n",
        "Run the decoder on that to get logits → pick the highest-score token → append to your sequence.\n",
        "\n",
        "Repeat: feed this longer sequence back into the decoder (with the same memory) to get the next token.\n",
        "\n",
        "Stop when you generate <\"eos\"> or reach max_len.\n",
        "\n",
        "Because this is a loop (“for step in 1…max_len”), and because you have to interleave model.forward calls with argmax and append, we wrap it up in a separate translate() function."
      ],
      "metadata": {
        "id": "yfjTF_yHIZ4N"
      }
    },
    {
      "cell_type": "code",
      "source": [
        "def inference(model, src_sentence: str, tokenizer, max_len: int):\n",
        "    # pass an input into the trained network to get the translation\n",
        "    model.eval()\n",
        "    with torch.no_grad():\n",
        "\n",
        "        # tokanise the source sentence, add padding if needed, move to gpu\n",
        "        src_ids = tokenizer.encode(src_sentence, out_type=int)\n",
        "        src_ids = src_ids[:max_len] + [pad_id] * (max_len - len(src_ids))\n",
        "        src_tensor = torch.tensor([src_ids], device=device)\n",
        "\n",
        "        # create embedding, pass in the encoder.\n",
        "        memory = model.src_embed(src_tensor)\n",
        "        for blk in model.encoder_blocks:\n",
        "            memory = blk(memory)\n",
        "\n",
        "        # decode repeatidly on generated outputs until the <eos> is reached\n",
        "        tgt_ids = [sos_id]\n",
        "\n",
        "        # to max sequence length\n",
        "        for _ in range(max_len):\n",
        "\n",
        "            # build decoder input with paddings, move to gpu\n",
        "            decoder_input = tgt_ids + [pad_id] * (max_len - len(tgt_ids))\n",
        "            tgt_tensor = torch.tensor([decoder_input], device=device)\n",
        "\n",
        "            # apply all decoder blocks\n",
        "            x = model.tgt_embed(tgt_tensor)\n",
        "            tgt_mask = generate_causal_mask(x.size(1), device)\n",
        "            for blk in model.decoder_blocks:\n",
        "                x = blk(x, memory,\n",
        "                        tgt_mask=tgt_mask,\n",
        "                        tgt_key_padding_mask=(tgt_tensor == pad_id),\n",
        "                        memory_key_padding_mask=(src_tensor == pad_id))\n",
        "\n",
        "            # project to vocab and take highest‐scoring token\n",
        "            logits = model.output_layer(x)  # [1, T, vocab_size]\n",
        "            next_id = logits[0, len(tgt_ids)-1].argmax().item()\n",
        "            tgt_ids.append(next_id)\n",
        "            # stop generating tokens from decoder if this is met\n",
        "            if next_id == eos_id:\n",
        "                break\n",
        "\n",
        "        # drop the initial <s> and any padding\n",
        "        return tokenizer.decode(\n",
        "            [tid for tid in tgt_ids[1:] if tid not in {pad_id, eos_id}],\n",
        "            out_type=str\n",
        "        )\n"
      ],
      "metadata": {
        "id": "FlYgNcouT7hk"
      },
      "execution_count": 22,
      "outputs": []
    },
    {
      "cell_type": "code",
      "source": [
        "test_dataset = TranslationDataset(test_en, test_it, tokenizer, max_len)\n",
        "test_loader  = DataLoader(test_dataset, batch_size=32, shuffle=False)\n",
        "# we use shuffle=False so we can reproduce the same tests"
      ],
      "metadata": {
        "id": "_Cpm069PCPr6"
      },
      "execution_count": 23,
      "outputs": []
    },
    {
      "cell_type": "markdown",
      "source": [
        "Run test loop"
      ],
      "metadata": {
        "id": "srKus0IGa95G"
      }
    },
    {
      "cell_type": "code",
      "source": [
        "all_preds, all_refs = [], []\n",
        "\n",
        "with torch.no_grad():\n",
        "    for batch in test_loader:\n",
        "        src = batch['src'].to(device)\n",
        "        tgt = batch['tgt'].to(device)\n",
        "        tgt_input, tgt_output = tgt[:,:-1], tgt[:,1:]\n",
        "\n",
        "        # run model, compute loss as before\n",
        "        for i in range(src.size(0)):\n",
        "\n",
        "            # decode and clean up the source: we do this for convenience, so\n",
        "            # you can call inference on a model and a string.\n",
        "            raw_src_ids = src[i].tolist()\n",
        "            src_ids = [tid for tid in raw_src_ids if tid != pad_id]\n",
        "            src_text = tokenizer.decode(src_ids, out_type=str)\n",
        "\n",
        "            # run inference, aka, translate the sentance\n",
        "            pred = inference(model, src_text, tokenizer, max_len)\n",
        "            all_preds.append(pred)\n",
        "\n",
        "            # build the reference string from tgt_output:\n",
        "            raw_ref_ids = tgt_output[i].tolist()\n",
        "            ref_ids = [tid for tid in raw_ref_ids if tid not in {pad_id, eos_id}]\n",
        "            ref = tokenizer.decode(ref_ids, out_type=str)\n",
        "            all_refs.append(ref)"
      ],
      "metadata": {
        "id": "Qp-jkpy6N9LN"
      },
      "execution_count": 24,
      "outputs": []
    },
    {
      "cell_type": "code",
      "source": [
        "all_preds = np.array(all_preds)\n",
        "all_refs = np.array(all_refs)\n",
        "all_preds.shape, all_refs.shape"
      ],
      "metadata": {
        "id": "UwMcKONwtd8k",
        "colab": {
          "base_uri": "https://localhost:8080/"
        },
        "outputId": "994c5331-fa54-46db-d734-5b8bf29b2f6c"
      },
      "execution_count": 25,
      "outputs": [
        {
          "output_type": "execute_result",
          "data": {
            "text/plain": [
              "((5000,), (5000,))"
            ]
          },
          "metadata": {},
          "execution_count": 25
        }
      ]
    },
    {
      "cell_type": "markdown",
      "source": [
        "#### Ok so now we have our predictions, we need to measure how good they are."
      ],
      "metadata": {
        "id": "s7uVT-15vA-I"
      }
    },
    {
      "cell_type": "code",
      "source": [
        "# bleu\n",
        "bleu = sacrebleu.corpus_bleu(all_preds.tolist(), [all_refs.tolist()])\n",
        "print(f\"Test BLEU = {bleu.score:.2f}\")"
      ],
      "metadata": {
        "id": "5G0cx3Qou_Rc",
        "colab": {
          "base_uri": "https://localhost:8080/"
        },
        "outputId": "1aa0ce67-62ca-45ac-88cb-611bd0ddb36e"
      },
      "execution_count": 26,
      "outputs": [
        {
          "output_type": "stream",
          "name": "stdout",
          "text": [
            "Test BLEU = 16.12\n"
          ]
        }
      ]
    }
  ]
}